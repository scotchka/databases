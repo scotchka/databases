{
 "cells": [
  {
   "cell_type": "code",
   "execution_count": 1,
   "metadata": {},
   "outputs": [],
   "source": [
    "from nodes import Filescan, Selection, Projection"
   ]
  },
  {
   "cell_type": "code",
   "execution_count": 2,
   "metadata": {},
   "outputs": [],
   "source": [
    "# SELECT title, genres\n",
    "# FROM movies \n",
    "# WHERE genres LIKE '%War%' \n",
    "#     and genres LIKE %Sci-Fi%"
   ]
  },
  {
   "cell_type": "code",
   "execution_count": 3,
   "metadata": {},
   "outputs": [],
   "source": [
    "q = Filescan('ml-20m/movies.csv')\n",
    "q = Selection('genres', 'CONTAINS', 'War', child=q)\n",
    "q = Projection('title', 'genres', child=q)\n",
    "q = Selection('genres', 'CONTAINS', 'Sci-Fi', child=q)"
   ]
  },
  {
   "cell_type": "code",
   "execution_count": 4,
   "metadata": {},
   "outputs": [
    {
     "name": "stdout",
     "output_type": "stream",
     "text": [
      "('Soldier (1998)', 'Action|Sci-Fi|War')\n",
      "('Wings of Honneamise (Ôritsu uchûgun Oneamisu no tsubasa) (1987)', 'Animation|Drama|Sci-Fi|War')\n",
      "('Slaughterhouse-Five (1972)', 'Comedy|Drama|Sci-Fi|War')\n",
      "('Captain America (1990)', 'Action|Fantasy|Sci-Fi|Thriller|War')\n",
      "('Macross Plus (1994)', 'Action|Drama|Sci-Fi|War')\n",
      "('Battlestar Galactica (2003)', 'Drama|Sci-Fi|War')\n",
      "('Starship Troopers 2: Hero of the Federation (2004)', 'Action|Horror|Sci-Fi|War')\n",
      "('Wizards (1977)', 'Animation|Fantasy|Sci-Fi|War')\n",
      "('Threads (1984)', 'Drama|Sci-Fi|War')\n",
      "('Black Moon (1975)', 'Fantasy|Mystery|Sci-Fi|War')\n",
      "('Starship Troopers 3: Marauder (2008)', 'Action|Sci-Fi|War')\n",
      "('MGS: Philanthropy (2009)', 'Action|Adventure|Sci-Fi|War')\n",
      "('Invisible Agent (1942)', 'Adventure|Comedy|Sci-Fi|Thriller|War')\n",
      "('Battle: Los Angeles (2011)', 'Action|Sci-Fi|War')\n",
      "('X-Men: First Class (2011)', 'Action|Adventure|Sci-Fi|Thriller|War')\n",
      "('Transformers: Dark of the Moon (2011)', 'Action|Adventure|Sci-Fi|War|IMAX')\n",
      "('Captain America: The First Avenger (2011)', 'Action|Adventure|Sci-Fi|Thriller|War')\n",
      "('Zone Troopers (1985)', 'Action|Sci-Fi|War')\n",
      "('Princess of Mars (2009)', 'Sci-Fi|Thriller|War')\n",
      "(\"War of the Dead - Stone's War (2011) \", 'Action|Adventure|Horror|Sci-Fi|Thriller|War')\n",
      "('Starship Troopers: Invasion (2012)', 'Action|Animation|Sci-Fi|War')\n",
      "(\"Gurren Lagann: Childhood's End (Gekijô ban Tengen toppa guren ragan: Guren hen) (2008)\", 'Adventure|Animation|Drama|Sci-Fi|War')\n",
      "('Gurren Lagann: The Lights in the Sky are Stars (Gekijô ban Tengen toppa guren ragan: Ragan hen) (2009)', 'Adventure|Animation|Drama|Sci-Fi|War')\n",
      "('Goliath Awaits (1981)', 'Drama|Sci-Fi|War')\n",
      "('Venus Wars (Venus Senki) (1989)', 'Action|Animation|Sci-Fi|War')\n",
      "('Jackboots on Whitehall (2011)', 'Animation|Comedy|Sci-Fi|War')\n",
      "('I Accuse (1938)', 'Drama|Horror|Sci-Fi|War')\n"
     ]
    }
   ],
   "source": [
    "for result in q:\n",
    "    print(result)"
   ]
  }
 ],
 "metadata": {
  "kernelspec": {
   "display_name": "Python 3",
   "language": "python",
   "name": "python3"
  },
  "language_info": {
   "codemirror_mode": {
    "name": "ipython",
    "version": 3
   },
   "file_extension": ".py",
   "mimetype": "text/x-python",
   "name": "python",
   "nbconvert_exporter": "python",
   "pygments_lexer": "ipython3",
   "version": "3.7.7"
  }
 },
 "nbformat": 4,
 "nbformat_minor": 4
}
