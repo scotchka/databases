{
 "cells": [
  {
   "cell_type": "code",
   "execution_count": 1,
   "metadata": {},
   "outputs": [],
   "source": [
    "# query = [\n",
    "#   [\"PROJECTION\", [\"name\"]],\n",
    "#   [\"SELECTION\", [\"id\", \"EQUALS\", \"5000\"]],\n",
    "#   [\"FILESCAN\", [\"movies\"]]\n",
    "# ]"
   ]
  },
  {
   "cell_type": "code",
   "execution_count": 2,
   "metadata": {},
   "outputs": [],
   "source": [
    "class Node:\n",
    "    def __init__(self, *args, child=None):\n",
    "        self.args = args\n",
    "        self.child = child\n",
    "        self.schema = None"
   ]
  },
  {
   "cell_type": "code",
   "execution_count": 3,
   "metadata": {},
   "outputs": [],
   "source": [
    "class Filescan(Node):\n",
    "    def __iter__(self):\n",
    "        table, = self.args\n",
    "        path = f'ml-20m/{table}.csv'\n",
    "        \n",
    "        with open(path) as f:\n",
    "            columns = next(f).strip().split(',')\n",
    "            self.schema = dict(zip(columns, range(len(columns))))\n",
    "            for line in f:\n",
    "                yield line.strip().split(',')"
   ]
  },
  {
   "cell_type": "code",
   "execution_count": 4,
   "metadata": {},
   "outputs": [],
   "source": [
    "class Selection(Node):\n",
    "    def __iter__(self):\n",
    "        column, op, value = self.args\n",
    "        \n",
    "        for row in self.child:\n",
    "            if not self.schema:\n",
    "                self.schema = self.child.schema\n",
    "            if op(row[self.child.schema[column]], value):\n",
    "                yield row"
   ]
  },
  {
   "cell_type": "code",
   "execution_count": 5,
   "metadata": {},
   "outputs": [],
   "source": [
    "class Projection(Node):\n",
    "    def __iter__(self):\n",
    "        self.schema = dict(zip(self.args, range(len(self.args))))\n",
    "        \n",
    "        for row in self.child:\n",
    "            yield tuple([row[self.child.schema[column]] for column in self.schema])"
   ]
  },
  {
   "cell_type": "code",
   "execution_count": 6,
   "metadata": {},
   "outputs": [],
   "source": [
    "EQUALS = lambda x, y: x == y"
   ]
  },
  {
   "cell_type": "code",
   "execution_count": 7,
   "metadata": {},
   "outputs": [],
   "source": [
    "CONTAINS = lambda string, substring: substring in string"
   ]
  },
  {
   "cell_type": "code",
   "execution_count": 24,
   "metadata": {},
   "outputs": [],
   "source": [
    "q = Filescan('movies')\n",
    "q = Selection('genres', CONTAINS, 'War', child=q)\n",
    "q = Projection('genres', child=q)\n",
    "q = Selection('genres', CONTAINS, 'Sci-Fi', child=q)"
   ]
  },
  {
   "cell_type": "code",
   "execution_count": 25,
   "metadata": {},
   "outputs": [
    {
     "name": "stdout",
     "output_type": "stream",
     "text": [
      "('Action|Sci-Fi|War',)\n",
      "('Animation|Drama|Sci-Fi|War',)\n",
      "('Comedy|Drama|Sci-Fi|War',)\n",
      "('Action|Fantasy|Sci-Fi|Thriller|War',)\n",
      "('Action|Drama|Sci-Fi|War',)\n",
      "('Drama|Sci-Fi|War',)\n",
      "('Action|Horror|Sci-Fi|War',)\n",
      "('Animation|Fantasy|Sci-Fi|War',)\n",
      "('Drama|Sci-Fi|War',)\n",
      "('Fantasy|Mystery|Sci-Fi|War',)\n",
      "('Action|Sci-Fi|War',)\n",
      "('Action|Adventure|Sci-Fi|War',)\n",
      "('Adventure|Comedy|Sci-Fi|Thriller|War',)\n",
      "('Action|Sci-Fi|War',)\n",
      "('Action|Adventure|Sci-Fi|Thriller|War',)\n",
      "('Action|Adventure|Sci-Fi|War|IMAX',)\n",
      "('Action|Adventure|Sci-Fi|Thriller|War',)\n",
      "('Action|Sci-Fi|War',)\n",
      "('Sci-Fi|Thriller|War',)\n",
      "('Action|Adventure|Horror|Sci-Fi|Thriller|War',)\n",
      "('Action|Animation|Sci-Fi|War',)\n",
      "('Adventure|Animation|Drama|Sci-Fi|War',)\n",
      "('Adventure|Animation|Drama|Sci-Fi|War',)\n",
      "('Drama|Sci-Fi|War',)\n",
      "('Action|Animation|Sci-Fi|War',)\n",
      "('Animation|Comedy|Sci-Fi|War',)\n",
      "('Drama|Horror|Sci-Fi|War',)\n"
     ]
    }
   ],
   "source": [
    "for result in q:\n",
    "    print(result)"
   ]
  },
  {
   "cell_type": "code",
   "execution_count": null,
   "metadata": {},
   "outputs": [],
   "source": []
  },
  {
   "cell_type": "code",
   "execution_count": null,
   "metadata": {},
   "outputs": [],
   "source": []
  }
 ],
 "metadata": {
  "kernelspec": {
   "display_name": "Python 3",
   "language": "python",
   "name": "python3"
  },
  "language_info": {
   "codemirror_mode": {
    "name": "ipython",
    "version": 3
   },
   "file_extension": ".py",
   "mimetype": "text/x-python",
   "name": "python",
   "nbconvert_exporter": "python",
   "pygments_lexer": "ipython3",
   "version": "3.7.7"
  }
 },
 "nbformat": 4,
 "nbformat_minor": 4
}
